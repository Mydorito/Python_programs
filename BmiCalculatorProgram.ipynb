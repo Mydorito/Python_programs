{
 "cells": [
  {
   "cell_type": "code",
   "execution_count": null,
   "id": "df187713",
   "metadata": {},
   "outputs": [],
   "source": []
  },
  {
   "cell_type": "code",
   "execution_count": null,
   "id": "cf73d8ba",
   "metadata": {},
   "outputs": [],
   "source": []
  },
  {
   "cell_type": "code",
   "execution_count": null,
   "id": "a78cc5fa",
   "metadata": {
    "scrolled": true
   },
   "outputs": [],
   "source": []
  },
  {
   "cell_type": "code",
   "execution_count": null,
   "id": "110aa4a1",
   "metadata": {},
   "outputs": [],
   "source": [
    "name = input(\"Enter Your Name ?\")\n",
    "height = float(input(\"Enter your height in feet \"))\n",
    "weight =int(input(\"Enter your weight in pounds \"))\n",
    "Bmi = (weight * 703)/(height * weight)\n",
    "print(Bmi)\n",
    "if Bmi > 0:\n",
    "    if (Bmi < 16):\n",
    "        print(\"name\" + \"several thiness\")\n",
    "elif Bmi <= 17:\n",
    "    print(\"name\" + \"Moderate thiness\")\n",
    "elif Bmi <= 18.5:\n",
    "    print(\"name\" + \"Mild thinkness\")\n",
    "elif Bmi <= 25:\n",
    "    print(\"Normal\")\n",
    "elif Bmi <= 30:\n",
    "    print(\"name\" + \"Overweight\")\n",
    "elif Bmi <=  35:\n",
    "    print(\"name\" + \"Obese Class I\")\n",
    "elif Bmi <=  40:\n",
    "    print(\"name\" + \"Obese Class II\")\n",
    "elif Bmi >  40:\n",
    "    print(\"name\" + \"Obese Class II\")\n",
    "else:\n",
    "    print(\"Invalid input\")\n",
    "    \n"
   ]
  },
  {
   "cell_type": "code",
   "execution_count": null,
   "id": "af6ed85d",
   "metadata": {},
   "outputs": [],
   "source": []
  },
  {
   "cell_type": "code",
   "execution_count": null,
   "id": "651d1858",
   "metadata": {},
   "outputs": [],
   "source": []
  }
 ],
 "metadata": {
  "kernelspec": {
   "display_name": "Python 3 (ipykernel)",
   "language": "python",
   "name": "python3"
  },
  "language_info": {
   "codemirror_mode": {
    "name": "ipython",
    "version": 3
   },
   "file_extension": ".py",
   "mimetype": "text/x-python",
   "name": "python",
   "nbconvert_exporter": "python",
   "pygments_lexer": "ipython3",
   "version": "3.11.5"
  }
 },
 "nbformat": 4,
 "nbformat_minor": 5
}
